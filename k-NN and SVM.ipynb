{
 "cells": [
  {
   "cell_type": "code",
   "execution_count": 5,
   "id": "dbc809a9",
   "metadata": {},
   "outputs": [],
   "source": [
    "import pandas as pd\n",
    "import numpy as np\n",
    "import seaborn as sns \n",
    "import math\n",
    "import seaborn as sns\n",
    "import matplotlib.pyplot as plt\n",
    "import time as tm"
   ]
  },
  {
   "cell_type": "code",
   "execution_count": 8,
   "id": "4925c8fe",
   "metadata": {},
   "outputs": [],
   "source": [
    "data1 = pd.read_csv('magic04.csv', header=None)\n",
    "data = np.array(data1)\n",
    "X_gammas = data[0:12332,0:11]\n",
    "index = np.arange(0, 12332-6688) \n",
    "X_gammas=np.delete(X_gammas,index,axis=0)#excess gamma data deleted\n",
    "X_hadrons = data[12332:19020,0:11]\n",
    "data_balanced = np.vstack((X_gammas,X_hadrons))#balanced data\n",
    "np.random.shuffle(data_balanced)#shuffle data\n",
    "X = data_balanced[:,0:10]\n",
    "X = X.astype(float)\n",
    "X_mean = np.mean(X, axis=0)\n",
    "X_std = np.std(X, axis=0) \n",
    "X_standardized = (X - X_mean) /  X_std #Standartized data\n",
    "Y = np.reshape(data_balanced[:,10], (13376,1))\n",
    "Y = np.where(Y == 'h', 0, 1) # 0 for hadron, 1 for gamma"
   ]
  },
  {
   "cell_type": "code",
   "execution_count": 11,
   "id": "cb1457a5",
   "metadata": {},
   "outputs": [],
   "source": [
    "def train_test_split(X, y, test_size):\n",
    "    feature_eng1= np.hstack((X,X[:,1:2]*X[:,1:2]))\n",
    "    feature_eng2= np.hstack((feature_eng1,X[:,3:4]*X[:,2:3]))\n",
    "    feature_eng3= np.hstack((feature_eng2,X[:,1:2]*X[:,2:3]))\n",
    "   \n",
    "    num_test = int(len(X) * test_size)\n",
    "    indices = np.random.permutation(len(X))\n",
    "    \n",
    "    test_indices = indices[:num_test]\n",
    "    train_indices = indices[num_test:]\n",
    "\n",
    "    X_train,X_test,y_train,y_test = X[train_indices],X[test_indices],y[train_indices],y[test_indices]\n",
    "    X_mean = np.mean(X_train, axis=0)\n",
    "    X_std = np.std(X_train, axis=0)\n",
    "    X_train = (X_train - X_mean) /  X_std\n",
    "    X_test  = (X_test - X_mean) /  X_std\n",
    "    \n",
    "    X_train2 = np.hstack((X_train,X_train[:,1:2]*X_train[:,1:2]))\n",
    "    X_test2  = np.hstack((X_test,X_test[:,1:2]*X_test[:,1:2]))\n",
    "    y_train2,y_test2 =  y[train_indices],y[test_indices]\n",
    "    \n",
    "    \n",
    "    X_train3 = np.hstack((X_train2,X_train[:,3:4]*X_train[:,2:3]))\n",
    "    X_test3  = np.hstack((X_test2,X_test[:,3:4]*X_test[:,2:3]))\n",
    "    y_train3,y_test3 = y[train_indices],y[test_indices]\n",
    "    \n",
    "    X_train4 = np.hstack((X_train3,X_train[:,1:2]*X_train[:,2:3]))\n",
    "    X_test4  = np.hstack((X_test3,X_test[:,1:2]*X_test[:,2:3]))\n",
    "    y_train4,y_test4 = y[train_indices],y[test_indices]\n",
    "    \n",
    "    \n",
    "    \"\"\"X_train2,X_test2,y_train2,y_test2 =  feature_eng1[train_indices], feature_eng1[test_indices],y[train_indices],y[test_indices]\n",
    "    X_mean2 = np.mean(X_train2, axis=0)\n",
    "    X_std2 = np.std(X_train2, axis=0)\n",
    "    X_train2 = (X_train2 - X_mean2) /  X_std2\n",
    "    X_test2 = (X_test2 - X_mean2) /  X_std2\"\"\"\n",
    "    \n",
    "    \"\"\"\"X_train3,X_test3,y_train3,y_test3 = feature_eng2[train_indices],feature_eng2[test_indices],y[train_indices],y[test_indices]\n",
    "    X_mean3 = np.mean(X_train3, axis=0)\n",
    "    X_std3 = np.std(X_train3, axis=0)\n",
    "    X_train3 = (X_train3 - X_mean3) /  X_std3\n",
    "    X_test3 = (X_test3 - X_mean3) /    X_std3\"\"\"\n",
    "    \n",
    "    \"\"\"\"X_train4,X_test4,y_train4,y_test4 = feature_eng3[train_indices],feature_eng3[test_indices],y[train_indices],y[test_indices]\n",
    "    X_mean4 = np.mean(X_train4, axis=0)\n",
    "    X_std4 = np.std(X_train4, axis=0)\n",
    "    X_train4 = (X_train4 - X_mean4) /  X_std4\n",
    "    X_test4 = (X_test4 - X_mean4) /  X_std4\"\"\"\n",
    "    \n",
    "    return X_train, X_test, y_train, y_test, X_train2,X_test2,y_train2,y_test2, X_train3,X_test3,y_train3,y_test3,X_train4,X_test4,y_train4,y_test4"
   ]
  },
  {
   "cell_type": "code",
   "execution_count": 24,
   "id": "d1143658",
   "metadata": {
    "scrolled": true
   },
   "outputs": [
    {
     "data": {
      "text/plain": [
       "[('Correlation between label and feature fAlpha', 0.46735330367662764),\n",
       " ('Correlation between label and feature fLength', 0.28785157154718544),\n",
       " ('Correlation between label and feature fWidth', 0.24509449368261527),\n",
       " ('Correlation between label and feature fM3Long', 0.18566625365785386),\n",
       " ('Correlation between label and feature fAsym', 0.1698489534953144),\n",
       " ('Correlation between label and feature fSize', 0.12018809200034211),\n",
       " ('Correlation between label and feature fDist', 0.06633923676111422),\n",
       " ('Correlation between label and feature fConc', 0.025625891961685972),\n",
       " ('Correlation between label and feature fConc1', 0.004675368684095842),\n",
       " ('Correlation between label and feature fM3Trans', 0.003953425771419972)]"
      ]
     },
     "execution_count": 24,
     "metadata": {},
     "output_type": "execute_result"
    }
   ],
   "source": [
    "y_mean = np.mean(Y) \n",
    "scores = {} \n",
    "predictor_labels = ['fLength','fWidth','fSize','fConc','fConc1','fAsym','fM3Long','fM3Trans','fAlpha','fDist'] \n",
    "for i in range(10):   \n",
    "    x_i = X_standardized[:, i]   \n",
    "    x_mean = np.mean(x_i)   \n",
    "    \n",
    "    numerator = np.sum(np.multiply((x_i - x_mean) , (Y.flatten() - y_mean))) \n",
    "    denominator = np.sqrt(np.sum((x_i - x_mean) ** 2) * np.sum((Y.flatten() - y_mean) ** 2)) \n",
    " \n",
    "    scores[f'Correlation between label and feature {predictor_labels[i]}'] = abs(numerator / denominator) \n",
    "sorted_feature_ranking = sorted(scores.items(), key=lambda item: item[1], reverse=True) \n",
    "sorted_feature_ranking "
   ]
  },
  {
   "cell_type": "code",
   "execution_count": 32,
   "id": "5aa9a2f7",
   "metadata": {},
   "outputs": [],
   "source": [
    "def knn(X_train, y_train, X_test, k):\n",
    "    diff = X_train - X_test #find the differences between x_instance and X_train datas\n",
    "    distances = np.sqrt(np.sum(diff ** 2, axis=1))\n",
    "    k_indices = np.argsort(distances)[:k] #choose the first smallest k distance \n",
    "    k_nearest_labels = y_train[k_indices] # find labels(0-1) for chosen indices\n",
    "   \n",
    "    gamma_probability = np.mean(k_nearest_labels) # probability of being class 1(gamma)\n",
    "    \n",
    "    return gamma_probability"
   ]
  },
  {
   "cell_type": "code",
   "execution_count": 7,
   "id": "73c4e84a",
   "metadata": {},
   "outputs": [],
   "source": [
    "def k_fold_cross_validation(X, y, k, num_folds, threshold):\n",
    "    # k= nearest number of neighbor, num_folds= k_fold number\n",
    "    fold_length = len(X) // num_folds\n",
    "    accuracies = []\n",
    "    all_y_pred = []\n",
    "    all_accuracy=[]\n",
    "    TP = TN = FP = FN = 0\n",
    "    for i in range(num_folds):\n",
    "        y_true = []\n",
    "        start_row = i * fold_length\n",
    "        end_row = (i + 1) * fold_length\n",
    "        X_test = X[start_row:end_row]\n",
    "        y_test = y[start_row:end_row]\n",
    "        X_train = np.concatenate((X[:start_row], X[end_row:]))\n",
    "        y_train = np.concatenate((y[:start_row], y[end_row:]))\n",
    "        y_true.extend(y_test)\n",
    "        y_pred = []\n",
    "        for x_test_instance in X_test:\n",
    "            prediction = knn(X_train, y_train, x_test_instance, k)\n",
    "            if prediction >=threshold:#according to threshold give 1 or 0 to prediction \n",
    "                prediction=1\n",
    "            else:\n",
    "                prediction=0\n",
    "            y_pred.append(prediction)\n",
    "        accuracy=0\n",
    "        tp = tn = fp = fn = 0\n",
    "        for true, pred in zip(y_true, y_pred):\n",
    "            if true == 1 and pred == 1:\n",
    "                tp += 1\n",
    "                TP += 1\n",
    "            elif true == 0 and pred == 0:\n",
    "                tn += 1\n",
    "                TN += 1\n",
    "            elif true == 0 and pred == 1:\n",
    "                fp += 1\n",
    "                FP += 1\n",
    "            elif true == 1 and pred == 0:\n",
    "                fn += 1\n",
    "                FN += 1\n",
    "        accuracy= 100*(tp+tn)/(tp+tn+fp+fn)#accuracy for each fold\n",
    "        all_accuracy.append(accuracy) #all accuracies(mean will be desired result)\n",
    "        conf_matrix = [[TN//100,FP//100], [FN//100, TP//100]]\n",
    "        \n",
    "    return  np.mean(all_accuracy),conf_matrix"
   ]
  },
  {
   "cell_type": "code",
   "execution_count": 34,
   "id": "4e471b02",
   "metadata": {},
   "outputs": [],
   "source": [
    "def train_test_split_k_nearest(X_train, X_test, y_train, y_test, k, threshold):\n",
    "    # k= nearest number of neighbor, num_folds= k_fold number\n",
    "    all_accuracy=[]\n",
    "    TP = TN = FP = FN = 0\n",
    "    y_true = []\n",
    "    y_pred = []\n",
    "    y_true.extend(y_test)\n",
    "    for x_test_instance in X_test:\n",
    "        prediction = knn(X_train, y_train, x_test_instance, k)\n",
    "        if prediction >=threshold:#according to threshold give 1 or 0 to prediction \n",
    "            prediction=1\n",
    "        else:\n",
    "            prediction=0\n",
    "        y_pred.append(prediction)\n",
    "    accuracy=0\n",
    "    tp = tn = fp = fn = 0\n",
    "    for true, pred in zip(y_true, y_pred):\n",
    "        if true == 1 and pred == 1:\n",
    "            tp += 1\n",
    "            TP += 1\n",
    "        elif true == 0 and pred == 0:\n",
    "            tn += 1\n",
    "            TN += 1\n",
    "        elif true == 0 and pred == 1:\n",
    "            fp += 1\n",
    "            FP += 1\n",
    "        elif true == 1 and pred == 0:\n",
    "            fn += 1\n",
    "            FN += 1\n",
    "    accuracy= 100*(tp+tn)/(tp+tn+fp+fn)#accuracy for each fold\n",
    "    conf_matrix = [[TN//100,FP//100], [FN//100, TP//100]]\n",
    "        \n",
    "    return  np.mean(accuracy),conf_matrix"
   ]
  },
  {
   "cell_type": "code",
   "execution_count": 24,
   "id": "79a82071",
   "metadata": {},
   "outputs": [],
   "source": [
    "accuracies=[]\n",
    "confusion_matrices=[]\n",
    "for k in range(2,20):\n",
    "    accuracy,confusion_matrix=k_fold_cross_validation(X_standardized, Y, k, 6,0.6)\n",
    "    accuracies.append(accuracy)\n",
    "    "
   ]
  },
  {
   "cell_type": "code",
   "execution_count": null,
   "id": "f36ac87f",
   "metadata": {},
   "outputs": [],
   "source": [
    "k_fold_cross_validation(X, y, k, num_folds, threshold)"
   ]
  },
  {
   "cell_type": "code",
   "execution_count": 26,
   "id": "c636357a",
   "metadata": {},
   "outputs": [],
   "source": [
    "accuracies2=[]\n",
    "confusion_matrices2=[]\n",
    "for i in np.arange(0.1, 1, 0.05):\n",
    "    accuracy2,confusion_matrix2=k_fold_cross_validation(X_standardized, Y, 10, 6, i)\n",
    "    accuracies2.append(accuracy2)\n",
    "    "
   ]
  },
  {
   "cell_type": "code",
   "execution_count": 27,
   "id": "9f4f8e17",
   "metadata": {},
   "outputs": [
    {
     "data": {
      "image/png": "[encoded data removed]",
      "text/plain": [
       "<Figure size 432x288 with 1 Axes>"
      ]
     },
     "metadata": {
      "needs_background": "light"
     },
     "output_type": "display_data"
    }
   ],
   "source": [
    "plt.plot([0.1,0.15,0.2,0.25,0.3,0.35,0.4,0.45,0.5,0.55,0.6,0.65,0.7,0.75,0.8,0.85,0.9,0.95],accuracies2)\n",
    "plt.xlabel('threshold')\n",
    "plt.ylabel('Accuracy')\n",
    "plt.title('Threshold vs Accuracy')\n",
    "plt.show()\n"
   ]
  },
  {
   "cell_type": "code",
   "execution_count": 34,
   "id": "397070eb",
   "metadata": {},
   "outputs": [
    {
     "data": {
      "text/plain": [
       "[65.99371915657245,\n",
       " 71.96799760729775,\n",
       " 76.08045461342904,\n",
       " 76.08045461342904,\n",
       " 78.95917451772095,\n",
       " 78.95917451772095,\n",
       " 80.88829071332435,\n",
       " 80.88829071332435,\n",
       " 81.74816808733362,\n",
       " 81.74816808733362,\n",
       " 80.73126962763571,\n",
       " 80.73126962763571,\n",
       " 78.56288320622103,\n",
       " 78.56288320622103,\n",
       " 74.23358755794825,\n",
       " 74.23358755794825,\n",
       " 66.03110512935547,\n",
       " 66.03110512935547]"
      ]
     },
     "execution_count": 34,
     "metadata": {},
     "output_type": "execute_result"
    }
   ],
   "source": [
    "accuracies2"
   ]
  },
  {
   "cell_type": "code",
   "execution_count": 25,
   "id": "d3652dcd",
   "metadata": {},
   "outputs": [
    {
     "data": {
      "image/png": "[encoded data removed]",
      "text/plain": [
       "<Figure size 432x288 with 1 Axes>"
      ]
     },
     "metadata": {
      "needs_background": "light"
     },
     "output_type": "display_data"
    }
   ],
   "source": [
    "plt.plot([2,3,4,5,6,7,8,9,10,11,12,13,14,15,16,17,18,19],accuracies) \n",
    "plt.xlabel('k') \n",
    "plt.ylabel('Accuracy') \n",
    "plt.title('Number of Neighbors vs Accuracy') \n",
    "plt.show() "
   ]
  },
  {
   "cell_type": "code",
   "execution_count": 21,
   "id": "bfd73a1a",
   "metadata": {},
   "outputs": [],
   "source": [
    "def SVM(learning_rate, lambd, n_iterations, X_train, y_train):\n",
    "    w = np.zeros(X_train.shape[1]) # initialize weight vector \n",
    "    b = 0\n",
    "    y_modified = np.where(y_train <= 0, -1, 1) #change labels 0 to -1, 1 is still 1\n",
    "   \n",
    "    for _ in range(n_iterations):#update weight vector and b \n",
    "        for i, x in enumerate(X_train):\n",
    "\n",
    "            margin = y_modified[i] * (np.dot(x, w) - b)>= 1 #this are the derivative of cost function \n",
    "            if margin:\n",
    "                w -= learning_rate*(2*lambd*w)\n",
    "            else:\n",
    "                w -= learning_rate*(2*lambd*w-x*y_modified[i])\n",
    "                b -= learning_rate*y_modified[i]\n",
    "    return w,b\n",
    "   "
   ]
  },
  {
   "cell_type": "code",
   "execution_count": 11,
   "id": "764e77cc",
   "metadata": {},
   "outputs": [],
   "source": [
    "def k_fold_cross_validation_SVM(X, y, num_folds,regularization_param,learning_rate,num_of_iterations):\n",
    "    fold_size = len(X) // num_folds\n",
    "    accuracies = []\n",
    "    all_y_pred = []\n",
    "    all_y_true = []\n",
    "       \n",
    "    for i in range(num_folds):\n",
    "        start_index = i * fold_size\n",
    "        end_index = (i + 1) * fold_size if i != num_folds - 1 else len(X)\n",
    "        X_test = X[start_index:end_index]\n",
    "        y_test = y[start_index:end_index]\n",
    "        X_train = np.concatenate((X[:start_index], X[end_index:]))\n",
    "        y_train = np.concatenate((y[:start_index], y[end_index:]))\n",
    "        \n",
    "        y_pred = []\n",
    "        w,b= SVM(learning_rate, regularization_param, num_of_iterations,X_train,y_train)\n",
    "        for x_test_instance in X_test:\n",
    "            predict = np.sign(np.dot(x_test_instance, w) - b)\n",
    "            if predict ==-1:\n",
    "                prediction=0\n",
    "                \n",
    "            else:\n",
    "                prediction=1\n",
    "                \n",
    "            y_pred.append(prediction)\n",
    "\n",
    "        all_y_pred.extend(y_pred)\n",
    "        all_y_true.extend(y_test)\n",
    "\n",
    "    tp = tn = fp = fn = 0\n",
    "    for true, pred in zip(all_y_true, all_y_pred):\n",
    "        if true == 1 and pred == 1:\n",
    "            tp += 1\n",
    "            \n",
    "        if true == 0 and pred == 0:\n",
    "            tn += 1\n",
    "            \n",
    "        if true == 0 and pred == 1:\n",
    "            fp += 1\n",
    "            \n",
    "        if true == 1 and pred == 0:\n",
    "            fn += 1\n",
    "            \n",
    "    accuracy= 100*(tp+tn)/(tp+tn+fp+fn)\n",
    "    conf_matrix = [[tn//num_folds, fp//num_folds], [fn//num_folds, tp//num_folds]]\n",
    "    return conf_matrix, accuracy"
   ]
  },
  {
   "cell_type": "code",
   "execution_count": 22,
   "id": "c0e0ee55",
   "metadata": {},
   "outputs": [],
   "source": [
    "def train_test_split__SVM(X_train, X_test, y_train, y_test,regularization_param,learning_rate,num_of_iterations):\n",
    "    \n",
    "    all_y_pred = []\n",
    "    all_y_true = []\n",
    "    all_y_true.extend(y_test)   \n",
    "    y_pred = []\n",
    "    w,b= SVM(learning_rate, regularization_param, num_of_iterations,X_train,y_train)\n",
    "    for x_test_instance in X_test:\n",
    "        predict = np.sign(np.dot(x_test_instance, w) - b)\n",
    "        if predict ==-1:\n",
    "            prediction=0\n",
    "        else:\n",
    "            prediction=1\n",
    "        y_pred.append(prediction)\n",
    "\n",
    "    all_y_pred.extend(y_pred)\n",
    "        \n",
    "\n",
    "    tp = tn = fp = fn = 0\n",
    "    for true, pred in zip(all_y_true, all_y_pred):\n",
    "        if true == 1 and pred == 1:\n",
    "            tp += 1\n",
    "            \n",
    "        if true == 0 and pred == 0:\n",
    "            tn += 1\n",
    "            \n",
    "        if true == 0 and pred == 1:\n",
    "            fp += 1\n",
    "            \n",
    "        if true == 1 and pred == 0:\n",
    "            fn += 1\n",
    "            \n",
    "    accuracy= 100*(tp+tn)/(tp+tn+fp+fn)\n",
    "    conf_matrix = [[tn, fp], [fn, tp]]\n",
    "    return conf_matrix, accuracy"
   ]
  },
  {
   "cell_type": "code",
   "execution_count": 52,
   "id": "d7ef3c9d",
   "metadata": {},
   "outputs": [],
   "source": [
    "accuracies3=[]\n",
    "confusion_matrices3=[]\n",
    "values = [0.00001, 0.00005, 0.0001, 0.0005, 0.001, 0.005, 0.01, 0.05, 0.1]\n",
    "\n",
    "for lambd in values:\n",
    "    confusion_matrix,accuracy=k_fold_cross_validation_SVM(X_standardized, Y, 3,lambd,0.0001,50)\n",
    "    accuracies3.append(accuracy)\n",
    "    "
   ]
  },
  {
   "cell_type": "code",
   "execution_count": 54,
   "id": "b838f4f2",
   "metadata": {},
   "outputs": [],
   "source": [
    "accuracies4=[]\n",
    "confusion_matrices4=[]\n",
    "values2 = [0.000001, 0.00001, 0.00003, 0.00005, 0.0001, 0.0005, 0.001, 0.005, 0.01]\n",
    "\n",
    "for i in values2:\n",
    "    confusion_matrix,accuracy=k_fold_cross_validation_SVM(X_standardized, Y, 3,0.0001,i,50)\n",
    "    accuracies4.append(accuracy)\n",
    "    "
   ]
  },
  {
   "cell_type": "code",
   "execution_count": 56,
   "id": "b9afcb7a",
   "metadata": {},
   "outputs": [],
   "source": [
    "accuracies5=[]\n",
    "confusion_matrices5=[]\n",
    "values3 = [int(10), int(20), int(30), int(40), int(50), int(60), int(70), int(80), int(90),int(100),int(150),int(200)]\n",
    "\n",
    "for i in values3:\n",
    "    confusion_matrix,accuracy=k_fold_cross_validation_SVM(X_standardized, Y, 3,0.0001,0.0001,i)\n",
    "    accuracies5.append(accuracy)\n",
    "    "
   ]
  },
  {
   "cell_type": "code",
   "execution_count": 57,
   "id": "69c535f2",
   "metadata": {},
   "outputs": [
    {
     "data": {
      "image/png": "[encoded data removed]",
      "text/plain": [
       "<Figure size 432x288 with 1 Axes>"
      ]
     },
     "metadata": {
      "needs_background": "light"
     },
     "output_type": "display_data"
    }
   ],
   "source": [
    "plt.plot(values3,accuracies5,marker='o')\n",
    " \n",
    "plt.xlabel('num_of_iterations')\n",
    "plt.ylabel('Accuracy')\n",
    "plt.title('num_of_iterations vs Accuracy')\n",
    "plt.show()"
   ]
  },
  {
   "cell_type": "code",
   "execution_count": 53,
   "id": "2de3f7bc",
   "metadata": {},
   "outputs": [
    {
     "data": {
      "image/png": "[encoded data removed]",
      "text/plain": [
       "<Figure size 432x288 with 1 Axes>"
      ]
     },
     "metadata": {
      "needs_background": "light"
     },
     "output_type": "display_data"
    }
   ],
   "source": [
    "plt.plot(values,accuracies3,marker='o')\n",
    "plt.xscale('log')  \n",
    "plt.xlabel('lambda')\n",
    "plt.ylabel('Accuracy')\n",
    "plt.title('Regularization constant vs Accuracy')\n",
    "plt.show()"
   ]
  },
  {
   "cell_type": "code",
   "execution_count": 55,
   "id": "11c95e14",
   "metadata": {},
   "outputs": [
    {
     "data": {
      "image/png": "[encoded data removed]",
      "text/plain": [
       "<Figure size 432x288 with 1 Axes>"
      ]
     },
     "metadata": {
      "needs_background": "light"
     },
     "output_type": "display_data"
    }
   ],
   "source": [
    "plt.plot(values2,accuracies4,marker='o')\n",
    "plt.xscale('log')  \n",
    "plt.xlabel('learning rate')\n",
    "plt.ylabel('Accuracy')\n",
    "plt.title('Learning Rate vs Accuracy')\n",
    "plt.show()"
   ]
  },
  {
   "cell_type": "code",
   "execution_count": 14,
   "id": "8047a3cb",
   "metadata": {},
   "outputs": [],
   "source": [
    "def test_neural_network(feature_train, feature_test, label_train, label_test):\n",
    "\n",
    "    ild = feature_train.shape[1] #Input layer dimension \n",
    "    sld = 30 #Second layer dimension\n",
    "    tld = 30 #Third layer dimension\n",
    "    old = 1 #Output layer dimension\n",
    "    \n",
    "    k = 100 #Batch Size\n",
    "    l = 20 #Training session over train data\n",
    "    \n",
    "    m = feature_train.shape[0]\n",
    "    \n",
    "    batch_length = int(m/k)\n",
    "    spare = m % batch_length\n",
    "    \n",
    "    feauture_train = feature_train[:m-spare]\n",
    "    label_train = label_train[:m-spare]\n",
    "    \n",
    "    feauture_train_batched = np.empty((k, batch_length, feauture_train.shape[1]), dtype=feauture_train.dtype)\n",
    "    label_train_batched = np.empty((k, batch_length, label_test.shape[1]), dtype=label_train.dtype)\n",
    "    \n",
    "    learning_rate = 1.0/k\n",
    "    \n",
    "    start_limit = 0.1\n",
    "    \n",
    "    slw = np.random.uniform(-start_limit,start_limit,(sld,ild)) #Input layer to second layer weights\n",
    "    tlw = np.random.uniform(-start_limit,start_limit,(tld,sld)) #Second layer to third layer weihhts\n",
    "    olw = np.random.uniform(-start_limit,start_limit,(old,tld)) #Third layer to output layer weights\n",
    "    \n",
    "    decision_boundary = 0.5\n",
    "    \n",
    "    g_slw = np.zeros(slw.shape)\n",
    "    g_tlw = np.zeros(tlw.shape)\n",
    "    g_olw = np.zeros(olw.shape)\n",
    "    \n",
    "    def relu(x):\n",
    "        return np.maximum(x, 0)\n",
    "    \n",
    "    def relu_derivative(x):\n",
    "        return np.where(x >= 0, 1, 0)\n",
    "    \n",
    "    logistic_limit = 10.0\n",
    "    \n",
    "    def logistic(v):\n",
    "        v = np.clip(v,-logistic_limit, logistic_limit)\n",
    "        return 1/(1+np.exp(-v))\n",
    "    \n",
    "    def logistic_derivative(v):\n",
    "        return logistic(v) * (1 - logistic(v))\n",
    "    \n",
    "    def loss_function_derivative(y_label,y_pred):\n",
    "        #Square loss function assumed\n",
    "        return -2.0 * (y_label - y_pred)\n",
    "        \n",
    "    def compute_prediction(input_vector):\n",
    "        second_layer_values = relu(np.dot(slw,input_vector))\n",
    "        third_layer_values = relu(np.dot(tlw,second_layer_values))\n",
    "        output_layer_value = logistic(np.dot(olw,third_layer_values))\n",
    "        return output_layer_value\n",
    "    \n",
    "    \n",
    "    def binary_prediction(input_vector):\n",
    "        return (compute_prediction(input_vector) >= decision_boundary).astype(int)\n",
    "      \n",
    "    \n",
    "    def compute_batch_gradient(input_vector,y_label):\n",
    "        # input_vector = input_vector.reshape(-1,1)\n",
    "        v_sl = np.dot(slw,input_vector) #induced local field of second layer\n",
    "        second_layer_values = relu(v_sl)\n",
    "        v_tl = np.dot(tlw,second_layer_values) #induced local field of third layer\n",
    "        third_layer_values = relu(v_tl)\n",
    "        v_ol = np.dot(olw,third_layer_values) #induced local field of output layer\n",
    "        y_pred = logistic(v_ol)\n",
    "        \n",
    "        d_ol = -loss_function_derivative(y_label, y_pred) * logistic_derivative(v_ol) #delta of output layer\n",
    "        sg_olw =  np.dot(-d_ol, third_layer_values.T) #gradient for output layer weights\n",
    "        \n",
    "        d_tl = d_ol * np.multiply(olw.T,relu_derivative(v_tl)) #delta of third layer\n",
    "        sg_tlw = np.dot(-d_tl,second_layer_values.T) # gradient for third layer weights\n",
    "        \n",
    "        d_sl = np.dot(tlw.T,d_tl)*relu_derivative(v_sl)\n",
    "        sg_slw = np.dot(-d_sl, input_vector.T) #gradient for second layer weights\n",
    "        \n",
    "        return sg_olw,sg_tlw,sg_slw\n",
    "        \n",
    "    #Slice the data into mini batches\n",
    "    for i in range(k):\n",
    "        start_row = i * batch_length\n",
    "        end_row = (i + 1) * batch_length\n",
    "        feauture_train_batched[i] = feature_train[start_row:end_row, :]\n",
    "        label_train_batched[i] = label_train[start_row:end_row, :]\n",
    "\n",
    "    CF = np.zeros((2,2)) #Confusion Matrix\n",
    "\n",
    "    for n in range(l):\n",
    "        for j in range(k): #Train Gradient descent\n",
    "            g_olw,g_tlw,g_slw = compute_batch_gradient(feauture_train_batched[j,:,:].T, label_train_batched[j,:,:].T)\n",
    "            olw = olw - learning_rate * g_olw\n",
    "            tlw = tlw - learning_rate * g_tlw\n",
    "            slw = slw - learning_rate * g_slw\n",
    "            \n",
    "    y_pred = binary_prediction(feature_test.T)\n",
    "    y_label =label_test.T\n",
    "    \n",
    "    #Confusion Matrix\n",
    "    FN = (1-y_pred) * y_label\n",
    "    TN = (1-y_pred) * (1 - y_label)\n",
    "    FP = y_pred * (1 - y_label)\n",
    "    TP = y_pred * y_label\n",
    "    \n",
    "    CF[0,0] += np.sum(TN)\n",
    "    CF[0,1] += np.sum(FP)\n",
    "    CF[1,0] += np.sum(FN)\n",
    "    CF[1,1] += np.sum(TP)\n",
    "    \n",
    "    y_accuracy = y_pred == y_label\n",
    "    accuracy = 100*np.sum(y_accuracy)/y_accuracy.shape[1]\n",
    "    \n",
    "    return accuracy\n",
    "\n"
   ]
  },
  {
   "cell_type": "code",
   "execution_count": 52,
   "id": "bcb679f7",
   "metadata": {},
   "outputs": [],
   "source": [
    "X_train, X_test, y_train, y_test, X_train2,X_test2,y_train2,y_test2, X_train3,X_test3,y_train3,y_test3,X_train4,X_test4,y_train4,y_test4= train_test_split(X, Y, 0.2)"
   ]
  },
  {
   "cell_type": "code",
   "execution_count": 40,
   "id": "3a1e8cec",
   "metadata": {},
   "outputs": [
    {
     "name": "stdout",
     "output_type": "stream",
     "text": [
      "85.7196261682243\n",
      "Execution Time: 0.28s\n"
     ]
    }
   ],
   "source": [
    "start_time = tm.time()\n",
    "nn_accuracy_normal_data = test_neural_network(X_train, X_test, y_train, y_test)\n",
    "print(nn_accuracy_normal_data)\n",
    "end_time = tm.time()\n",
    "print(\"Execution Time: {:.2f}s\".format(end_time - start_time))"
   ]
  },
  {
   "cell_type": "code",
   "execution_count": 41,
   "id": "ca8452c6",
   "metadata": {},
   "outputs": [
    {
     "name": "stdout",
     "output_type": "stream",
     "text": [
      "85.86915887850468\n",
      "Execution Time: 0.30s\n"
     ]
    }
   ],
   "source": [
    "start_time = tm.time()\n",
    "nn_accuracy_feature_engineered_1 = test_neural_network(X_train2, X_test2, y_train2, y_test2)\n",
    "print(nn_accuracy_feature_engineered_1)\n",
    "end_time = tm.time()\n",
    "print(\"Execution Time: {:.2f}s\".format(end_time - start_time))"
   ]
  },
  {
   "cell_type": "code",
   "execution_count": 42,
   "id": "be590ac4",
   "metadata": {},
   "outputs": [
    {
     "name": "stdout",
     "output_type": "stream",
     "text": [
      "85.1214953271028\n",
      "Execution Time: 0.30s\n"
     ]
    }
   ],
   "source": [
    "start_time = tm.time()\n",
    "nn_accuracy_feature_engineered_2 = test_neural_network(X_train3, X_test3, y_train3, y_test3)\n",
    "print(nn_accuracy_feature_engineered_2)\n",
    "end_time = tm.time()\n",
    "print(\"Execution Time: {:.2f}s\".format(end_time - start_time))"
   ]
  },
  {
   "cell_type": "code",
   "execution_count": 43,
   "id": "83ccd89c",
   "metadata": {},
   "outputs": [
    {
     "name": "stdout",
     "output_type": "stream",
     "text": [
      "85.64485981308411\n",
      "Execution Time: 0.31s\n"
     ]
    }
   ],
   "source": [
    "start_time = tm.time()\n",
    "nn_accuracy_feature_engineered_3 = test_neural_network(X_train4, X_test4, y_train4, y_test4)\n",
    "print(nn_accuracy_feature_engineered_3)\n",
    "end_time = tm.time()\n",
    "print(\"Execution Time: {:.2f}s\".format(end_time - start_time))"
   ]
  },
  {
   "cell_type": "code",
   "execution_count": 44,
   "id": "179e038a",
   "metadata": {},
   "outputs": [
    {
     "name": "stdout",
     "output_type": "stream",
     "text": [
      "77.94392523364486\n",
      "Execution Time: 4.26s\n"
     ]
    }
   ],
   "source": [
    "start_time = tm.time()\n",
    "confsion_matrix_SVM,accuracy_SVM= train_test_split__SVM(X_train, X_test, y_train, y_test,0.0001,0.0001,50)\n",
    "print(accuracy_SVM)\n",
    "end_time = tm.time()\n",
    "print(\"Execution Time: {:.2f}s\".format(end_time - start_time))"
   ]
  },
  {
   "cell_type": "code",
   "execution_count": 45,
   "id": "03646f6c",
   "metadata": {},
   "outputs": [
    {
     "name": "stdout",
     "output_type": "stream",
     "text": [
      "78.72897196261682\n",
      "Execution Time: 4.33s\n"
     ]
    }
   ],
   "source": [
    "start_time = tm.time()\n",
    "confsion_matrix_SVM2,accuracy_SVM2= train_test_split__SVM(X_train2, X_test2, y_train2, y_test2,0.0001,0.0001,50)\n",
    "print(accuracy_SVM2)\n",
    "end_time = tm.time()\n",
    "print(\"Execution Time: {:.2f}s\".format(end_time - start_time))"
   ]
  },
  {
   "cell_type": "code",
   "execution_count": 46,
   "id": "1e6e22bd",
   "metadata": {},
   "outputs": [
    {
     "name": "stdout",
     "output_type": "stream",
     "text": [
      "81.75700934579439\n",
      "Execution Time: 4.19s\n"
     ]
    }
   ],
   "source": [
    "start_time = tm.time()\n",
    "confsion_matrix_SVM3,accuracy_SVM3= train_test_split__SVM(X_train3, X_test3, y_train3, y_test3,0.0001,0.0001,50)\n",
    "print(accuracy_SVM3)\n",
    "end_time = tm.time()\n",
    "print(\"Execution Time: {:.2f}s\".format(end_time - start_time))  "
   ]
  },
  {
   "cell_type": "code",
   "execution_count": 47,
   "id": "6d03ec92",
   "metadata": {},
   "outputs": [
    {
     "name": "stdout",
     "output_type": "stream",
     "text": [
      "81.90654205607477\n",
      "Execution Time: 4.30s\n"
     ]
    }
   ],
   "source": [
    "start_time = tm.time()\n",
    "confsion_matrix_SVM6,accuracy_SVM6= train_test_split__SVM(X_train4, X_test4, y_train4, y_test4,0.0001,0.0001,50)\n",
    "print(accuracy_SVM6)\n",
    "end_time = tm.time()\n",
    "print(\"Execution Time: {:.2f}s\".format(end_time - start_time))"
   ]
  },
  {
   "cell_type": "code",
   "execution_count": 48,
   "id": "040f3722",
   "metadata": {},
   "outputs": [
    {
     "name": "stdout",
     "output_type": "stream",
     "text": [
      "82.01869158878505\n",
      "Execution Time: 2.15s\n"
     ]
    }
   ],
   "source": [
    "start_time = tm.time()\n",
    "accurcy,all_confusion_matrix=train_test_split_k_nearest(X_train, X_test, y_train, y_test,6,0.55)\n",
    "print(accurcy)\n",
    "end_time = tm.time()\n",
    "print(\"Execution Time: {:.2f}s\".format(end_time - start_time))"
   ]
  },
  {
   "cell_type": "code",
   "execution_count": 49,
   "id": "e8ecb848",
   "metadata": {},
   "outputs": [
    {
     "name": "stdout",
     "output_type": "stream",
     "text": [
      "82.54205607476635\n",
      "Execution Time: 2.11s\n"
     ]
    }
   ],
   "source": [
    "start_time = tm.time()\n",
    "accurcy,all_confusion_matrix=train_test_split_k_nearest(X_train2, X_test2, y_train2, y_test2,6,0.55)\n",
    "print(accurcy)\n",
    "end_time = tm.time()\n",
    "print(\"Execution Time: {:.2f}s\".format(end_time - start_time))"
   ]
  },
  {
   "cell_type": "code",
   "execution_count": 53,
   "id": "ec6ad0d7",
   "metadata": {},
   "outputs": [
    {
     "name": "stdout",
     "output_type": "stream",
     "text": [
      "82.09345794392523\n",
      "Execution Time: 2.14s\n"
     ]
    }
   ],
   "source": [
    "start_time = tm.time()\n",
    "accurcy,all_confusion_matrix=train_test_split_k_nearest(X_train3, X_test3, y_train3, y_test3,6,0.55)\n",
    "print(accurcy)\n",
    "end_time = tm.time()\n",
    "print(\"Execution Time: {:.2f}s\".format(end_time - start_time))"
   ]
  },
  {
   "cell_type": "code",
   "execution_count": 54,
   "id": "13e476e1",
   "metadata": {},
   "outputs": [
    {
     "name": "stdout",
     "output_type": "stream",
     "text": [
      "82.13084112149532\n",
      "Execution Time: 3.12s\n"
     ]
    }
   ],
   "source": [
    "start_time = tm.time()\n",
    "accurcy,all_confusion_matrix=train_test_split_k_nearest(X_train4, X_test4, y_train4, y_test4,6,0.55)\n",
    "print(accurcy)\n",
    "end_time = tm.time()\n",
    "print(\"Execution Time: {:.2f}s\".format(end_time - start_time))"
   ]
  },
  {
   "cell_type": "code",
   "execution_count": null,
   "id": "11ddf081",
   "metadata": {},
   "outputs": [],
   "source": []
  },
  {
   "cell_type": "code",
   "execution_count": null,
   "id": "cf68dd1a",
   "metadata": {},
   "outputs": [],
   "source": []
  },
  {
   "cell_type": "code",
   "execution_count": null,
   "id": "65824688",
   "metadata": {},
   "outputs": [],
   "source": []
  }
 ],
 "metadata": {
  "kernelspec": {
   "display_name": "Python 3 (ipykernel)",
   "language": "python",
   "name": "python3"
  },
  "language_info": {
   "codemirror_mode": {
    "name": "ipython",
    "version": 3
   },
   "file_extension": ".py",
   "mimetype": "text/x-python",
   "name": "python",
   "nbconvert_exporter": "python",
   "pygments_lexer": "ipython3",
   "version": "3.9.7"
  }
 },
 "nbformat": 4,
 "nbformat_minor": 5
}
